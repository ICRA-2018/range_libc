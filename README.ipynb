{
 "cells": [
  {
   "cell_type": "markdown",
   "metadata": {},
   "source": [
    "# RangeLibc\n",
    "\n",
    "This library provides for different implementations of 2D raycasting for 2D occupancy grids, including the Compressed Directional Distance Transform (CDDT) algorithm as proposed in [this publication](http://arxiv.org/abs/1705.01167). The code is written and optimized in C++, and Python wrappers are also provided.\n",
    "\n",
    "WARNING: this is currently in a slightly weird state in preparation for 6.141 lab 5. I will try to fix up all the compile flags to work with both use cases soon.\n",
    "\n",
    "### C++ testing code"
   ]
  },
  {
   "cell_type": "code",
   "execution_count": null,
   "metadata": {},
   "outputs": [],
   "source": [
    "build/bin/range_lib"
   ]
  },
  {
   "cell_type": "markdown",
   "metadata": {},
   "source": [
    "### Building the Python Wrappers\n",
    "\n",
    "To build the code and its associated Python wrappers for use in Python code, do the following."
   ]
  },
  {
   "cell_type": "code",
   "execution_count": null,
   "metadata": {},
   "outputs": [],
   "source": [
    "cd pywrapper"
   ]
  },
  {
   "cell_type": "code",
   "execution_count": null,
   "metadata": {},
   "outputs": [],
   "source": [
    "WITH_CUDA=ON python setup.py build_ext --inplace"
   ]
  },
  {
   "cell_type": "code",
   "execution_count": null,
   "metadata": {},
   "outputs": [],
   "source": [
    "python test.py"
   ]
  },
  {
   "cell_type": "markdown",
   "metadata": {},
   "source": [
    "## License\n",
    "\n",
    "This code is licensed under Apache 2.0. Copyright 2017 Corey H. Walsh. \n",
    "\n",
    "You may obtain a copy of the License at: http://www.apache.org/licenses/LICENSE-2.0\n",
    "\n",
    "Enjoy!\n",
    "\n",
    "## Cite\n",
    "\n",
    "This library accompanies the following [publication](http://arxiv.org/abs/1705.01167)."
   ]
  },
  {
   "cell_type": "code",
   "execution_count": null,
   "metadata": {},
   "outputs": [],
   "source": [
    "@article{walsh17,\n",
    "    author = {Corey Walsh and \n",
    "              Sertac Karaman},\n",
    "    title  = {CDDT: Fast Approximate 2D Ray Casting for Accelerated Localization},\n",
    "    volume = {abs/1705.01167},\n",
    "    url    = {http://arxiv.org/abs/1705.01167},\n",
    "    year   = {2017}}"
   ]
  },
  {
   "cell_type": "markdown",
   "metadata": {},
   "source": [
    "## Code structure"
   ]
  },
  {
   "cell_type": "code",
   "execution_count": null,
   "metadata": {},
   "outputs": [],
   "source": [
    "range_libc_dist/\n",
    "├── build\n",
    "│   └── bin          # this is where compiled binaries will be placed\n",
    "├── CMakeLists.txt   # compilation rules - includes, etc\n",
    "├── includes\n",
    "│   ├── lru_cache.h  # implementation of LRU_cache, optionally used\n",
    "│   ├── RangeLib.h   # main RangeLib source code\n",
    "│   ├── CudaRangeLib.h # cuda function header file\n",
    "│   ├── kernels.cu   # cuda kernels for super fast 2D ray casting\n",
    "│   └── RangeUtils.h # various utility functions\n",
    "├── license.txt\n",
    "├── main.cpp         # example c++ usage and simple benchmarks\n",
    "├── make_plots.py    # turns fine-grained benchmark information into violin plots\n",
    "├── tmp/             # make this directory for saving fine-grained timing information\n",
    "├── maps             # example PNG maps\n",
    "│   └── [various .png files]\n",
    "├── pywrapper\n",
    "│   ├── RangeLibc.pyx # wrapper file for using RangeLib from Python\n",
    "│   ├── setup.py     # compilation rules for Cython\n",
    "│   └── test.py      # example Python usage\n",
    "├── README.md\n",
    "└── vendor           # various dependencies, see in here for licenses\n",
    "    ├── distance_transform.h # for computing euclidean distance transform\n",
    "    ├── gflags       # command line flag library from Google\n",
    "    └── lodepng      # simple PNG loading/saving library"
   ]
  }
 ],
 "metadata": {
  "kernelspec": {
   "display_name": "Bash",
   "language": "bash",
   "name": "bash"
  },
  "language_info": {
   "codemirror_mode": "shell",
   "file_extension": ".sh",
   "mimetype": "text/x-sh",
   "name": "bash"
  }
 },
 "nbformat": 4,
 "nbformat_minor": 2
}

